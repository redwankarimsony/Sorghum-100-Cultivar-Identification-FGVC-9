{
 "cells": [
  {
   "cell_type": "code",
   "execution_count": 27,
   "metadata": {},
   "outputs": [],
   "source": [
    "import glob\n",
    "import pandas as pd\n",
    "\n",
    "sub_files = glob.glob(\"results/tf_efficientnet_b0_ns-version_*-submission.csv\")\n",
    "\n",
    "subs_all = pd.read_csv(sub_files[0])\n",
    "subs_all.drop(columns=[\"cultivar\"], inplace=True)\n",
    "\n"
   ]
  },
  {
   "cell_type": "code",
   "execution_count": 30,
   "metadata": {},
   "outputs": [],
   "source": [
    "for i, file in enumerate(sub_files):\n",
    "    df = pd.read_csv(f\"results/tf_efficientnet_b0_ns-version_{i}-submission.csv\")\n",
    "    subs_all[f\"version{i}\"] = df[\"cultivar\"]"
   ]
  },
  {
   "cell_type": "code",
   "execution_count": 49,
   "metadata": {},
   "outputs": [],
   "source": [
    "correct = 0\n",
    "elements = []\n",
    "for i,  row in subs_all.iterrows():\n",
    "    # if (len(set(row[subs_all.columns[1:]].values))) != 1:\n",
    "    elements.append(row.values[1:])\n",
    "\n",
    "    "
   ]
  },
  {
   "cell_type": "code",
   "execution_count": 52,
   "metadata": {},
   "outputs": [],
   "source": [
    "from collections import Counter\n",
    "\n",
    "ensmbl = []\n",
    "for i in range(len(elements)):\n",
    "    ensmbl.append( list(Counter(elements[i]).keys())[0])"
   ]
  },
  {
   "cell_type": "code",
   "execution_count": 53,
   "metadata": {},
   "outputs": [
    {
     "data": {
      "text/plain": [
       "23639"
      ]
     },
     "execution_count": 53,
     "metadata": {},
     "output_type": "execute_result"
    }
   ],
   "source": [
    "len(ensmbl)"
   ]
  },
  {
   "cell_type": "code",
   "execution_count": 54,
   "metadata": {},
   "outputs": [
    {
     "data": {
      "text/plain": [
       "(23639, 10)"
      ]
     },
     "execution_count": 54,
     "metadata": {},
     "output_type": "execute_result"
    }
   ],
   "source": [
    "subs_all.shape"
   ]
  },
  {
   "cell_type": "code",
   "execution_count": 55,
   "metadata": {},
   "outputs": [],
   "source": [
    "subs_all = pd.read_csv(sub_files[0])\n",
    "subs_all[\"cultivar\"] = ensmbl"
   ]
  },
  {
   "cell_type": "code",
   "execution_count": 56,
   "metadata": {},
   "outputs": [],
   "source": [
    "subs_all.to_csv(\"final_ensemble.csv\", index=False)"
   ]
  },
  {
   "cell_type": "code",
   "execution_count": null,
   "metadata": {},
   "outputs": [],
   "source": []
  }
 ],
 "metadata": {
  "interpreter": {
   "hash": "6f4c128b49ed750b638c1c9563d71221094727dc8ca222f5c5cdfd74bc156bb7"
  },
  "kernelspec": {
   "display_name": "Python 3.8.0 ('kaggle-env')",
   "language": "python",
   "name": "python3"
  },
  "language_info": {
   "codemirror_mode": {
    "name": "ipython",
    "version": 3
   },
   "file_extension": ".py",
   "mimetype": "text/x-python",
   "name": "python",
   "nbconvert_exporter": "python",
   "pygments_lexer": "ipython3",
   "version": "3.8.0"
  },
  "orig_nbformat": 4
 },
 "nbformat": 4,
 "nbformat_minor": 2
}
